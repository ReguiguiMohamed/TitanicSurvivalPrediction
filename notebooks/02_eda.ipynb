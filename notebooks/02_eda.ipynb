  "cells": [
    {
      "cell_type": "markdown",
      "metadata": {},
      "source": [
        "# Exploratory Data Analysis\n",
        "Analysis of Titanic training data."
      ]
    },
    {
      "cell_type": "code",
      "metadata": {},
      "execution_count": null,
      "outputs": [],
      "source": [
        "import pandas as pd\n",
        "import seaborn as sns\n",
        "import matplotlib.pyplot as plt\n",
        "%matplotlib inline\n",
        "train = pd.read_csv('../data/raw/train.csv')\n",
        "train.head()\n"
      ]
    },
    {
      "cell_type": "code",
      "metadata": {},
      "execution_count": null,
      "outputs": [],
      "source": [
        "# Survival rates by Sex, Pclass, and Age groups\n",
        "print('Survival by Sex')\n",
        "print(train.groupby('Sex')['Survived'].mean())\n",
        "print('\nSurvival by Pclass')\n",
        "print(train.groupby('Pclass')['Survived'].mean())\n",
        "print('\nSurvival by Age group')\n",
        "age_bins = [0,12,18,35,60,80]\n",
        "age_labels = ['Child','Teen','Adult','Middle','Senior']\n",
        "train['AgeGroup'] = pd.cut(train['Age'], bins=age_bins, labels=age_labels, right=False)\n",
        "print(train.groupby('AgeGroup')['Survived'].mean())\n"
      ]
    },
    {
      "cell_type": "code",
      "metadata": {},
      "execution_count": null,
      "outputs": [],
      "source": [
        "# Missing data summary\n",
        "train.isnull().sum()\n"
      ]
    },
    {
      "cell_type": "code",
      "metadata": {},
      "execution_count": null,
      "outputs": [],
      "source": [
        "# Feature distributions\n",
        "train[['Age','Fare']].hist(figsize=(10,4))\n",
        "plt.figure()\n",
        "sns.countplot(data=train, x='Sex')\n",
        "plt.figure()\n",
        "sns.countplot(data=train, x='Pclass')\n"
      ]
    },
    {
      "cell_type": "code",
      "metadata": {},
      "execution_count": null,
      "outputs": [],
      "source": [
        "# Correlation heatmap\n",
        "corr = train.corr(numeric_only=True)\n",
        "sns.heatmap(corr, annot=True, fmt='.2f', cmap='coolwarm')\n"
  ],
  "metadata": {
    "kernelspec": {
      "display_name": "Python 3",
      "language": "python",
      "name": "python3"
    },
    "language_info": {
      "name": "python",
      "version": "3.11"
  "nbformat": 4,
  "nbformat_minor": 5
}
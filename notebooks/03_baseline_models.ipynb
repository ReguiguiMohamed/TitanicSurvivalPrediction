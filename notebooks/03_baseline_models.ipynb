{
  "cells": [
    {
      "cell_type": "markdown",
      "metadata": {},
      "source": [
        "# Baseline Models\n",
        "Initial models with cross-validation."
      ]
    },
    {
      "cell_type": "code",
      "metadata": {},
      "execution_count": null,
      "outputs": [],
      "source": [
        "import pandas as pd\n",
        "from sklearn.model_selection import cross_validate, StratifiedKFold\n",
        "from sklearn.linear_model import LogisticRegression\n",
        "from sklearn.tree import DecisionTreeClassifier\n",
        "from sklearn.ensemble import RandomForestClassifier\n",
        "from src.data_preprocessing import fit_transform\n",
        "\n",
        "df = pd.read_csv('../data/raw/train.csv')\n",
        "X, y, preprocessor, feature_names = fit_transform(df)\n",
        "\n",
        "models = {\n",
        "    'LogisticRegression': LogisticRegression(max_iter=1000),\n",
        "    'DecisionTree': DecisionTreeClassifier(random_state=0),\n",
        "    'RandomForest': RandomForestClassifier(n_estimators=100, random_state=0)\n",
        "}\n",
        "cv = StratifiedKFold(n_splits=5, shuffle=True, random_state=0)\n",
        "for name, model in models.items():\n",
        "    scores = cross_validate(model, X, y, cv=cv, scoring=['accuracy','precision','recall','f1'])\n",
        "    metrics = {m: scores[f'test_{m}'].mean() for m in ['accuracy','precision','recall','f1']}\n",
        "    print(name, metrics)\n"
      ]
    }
  ],
  "metadata": {
    "kernelspec": {
      "display_name": "Python 3",
      "language": "python",
      "name": "python3"
    },
    "language_info": {
      "name": "python",
      "version": "3.11"
    }
  },
  "nbformat": 4,
  "nbformat_minor": 5
}